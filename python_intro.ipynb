{
  "nbformat": 4,
  "nbformat_minor": 0,
  "metadata": {
    "colab": {
      "provenance": []
    },
    "kernelspec": {
      "name": "python3",
      "display_name": "Python 3"
    },
    "language_info": {
      "name": "python"
    }
  },
  "cells": [
    {
      "cell_type": "markdown",
      "source": [
        "# Assignment theory questions.."
      ],
      "metadata": {
        "id": "RsyNtmsEakOm"
      }
    },
    {
      "cell_type": "markdown",
      "source": [
        "1. What is Python, and why is it popular?\n",
        "  - Python is a programming language, it is easy to read and write. It's popular because it is simple, has a huge number of ready-made libraries and can be used widely for websites, games, AI, data analysis etc.\n",
        "2. What is an interpreter in Python?\n",
        "  - The interpreter is like a translator for Python. It reads the Python code line by line and turns it into instructions for the computer to understand.\n",
        "3. What are pre-defined keywords in Python?\n",
        "  - Keywords are special words in Python that have a fixed meaning. Like if, for, while, True. we can't make them mean something else.\n",
        "4. Can keywords be used as variable names?\n",
        "  - No, we can't naming a variable as keywords like if or while. Because, by this Python compiler will get confused and give an error.\n",
        "5. What is mutability in Python?\n",
        "  - Mutability in Python means we can you change it after making it. example- list etc.\n",
        "6. Why are lists mutable, but tuples are immutable?\n",
        "  - Because the lists are designed in which we can add, remove or change items. But the tuples are fixed in size if once made.\n",
        "7. What is the difference between “==” and “is” operators in Python?\n",
        "  - == checks if values are the same.\n",
        "is checks if both objects are actually the same object in memory.\n",
        "8. What are logical operators in Python?\n",
        "  - They are used to connect conditions.\n",
        "  \n",
        "  and: both conditions must be true.\n",
        "\n",
        "  or: at least one condition must be true.\n",
        "\n",
        "  not: swaps True to False and False to True.\n",
        "9. What is type casting in Python?\n",
        "  - It means changing a value from one datatype to another. Like turning a number into a string, or a string into a number.\n",
        "10. What is the difference between implicit and explicit type casting?\n",
        "\n",
        "  - Implicit → Python changes the required datatype automatically.\n",
        "\n",
        "  - Explicit → We do it manually by using functions like int(), float() etc.\n",
        "\n",
        "11. What is the purpose of conditional statements in Python?\n",
        "  - The purpose of conditional statements in Python is to make the program decide what to do based on a condition.\n",
        "\n",
        "12. How does the elif statement work?\n",
        "  - elif means “else if”\n",
        "\n",
        "  - If the first if is not true, Python will check the else if.\n",
        "If the else if is true, it will run that part\n",
        "\n",
        "13. What is the difference between for and while loops?\n",
        "\n",
        "  - for loop: Runs within a number of times.\n",
        "\n",
        "  - while loop: Runs as long as a condition is true.\n",
        "14. Describe a scenario where a while loop is more suitable than a for loop.\n",
        "  - When we don't know the exact number of times we will need to repeat the loop to satisfy the condition."
      ],
      "metadata": {
        "id": "l0J5rsCPaxLC"
      }
    },
    {
      "cell_type": "markdown",
      "source": [
        "# Assignment practical questions.."
      ],
      "metadata": {
        "id": "h7_MZ-eNcNLD"
      }
    },
    {
      "cell_type": "code",
      "source": [
        "# 1. Write a Python program to print \"Hello, World!\n",
        "print(\"Hello, World!\")\n"
      ],
      "metadata": {
        "colab": {
          "base_uri": "https://localhost:8080/"
        },
        "id": "zWyv4PUooDpx",
        "outputId": "5b5af8bc-9a49-4cba-b0aa-f2fd2c94a008"
      },
      "execution_count": 2,
      "outputs": [
        {
          "output_type": "stream",
          "name": "stdout",
          "text": [
            "Hello, World!\n"
          ]
        }
      ]
    },
    {
      "cell_type": "code",
      "source": [
        "# 2. Write a Python program that displays your name and age?\n",
        "name = \"Harsh\"\n",
        "age = 20\n",
        "print(\"Name:\", name)\n",
        "print(\"Age:\", age)\n"
      ],
      "metadata": {
        "colab": {
          "base_uri": "https://localhost:8080/"
        },
        "id": "GA6F6AzXoSZP",
        "outputId": "df1944b5-3653-4257-d0f8-3137f9dd2b35"
      },
      "execution_count": 3,
      "outputs": [
        {
          "output_type": "stream",
          "name": "stdout",
          "text": [
            "Name: Harsh\n",
            "Age: 20\n"
          ]
        }
      ]
    },
    {
      "cell_type": "code",
      "source": [
        "# 3. Write code to print all the pre-defined keywords in Python using the keyword library?\n",
        "import keyword\n",
        "print(keyword.kwlist)\n"
      ],
      "metadata": {
        "colab": {
          "base_uri": "https://localhost:8080/"
        },
        "id": "Votire-lD1RL",
        "outputId": "6f9223a4-ccd1-4650-b632-a4bedaca0672"
      },
      "execution_count": 1,
      "outputs": [
        {
          "output_type": "stream",
          "name": "stdout",
          "text": [
            "['False', 'None', 'True', 'and', 'as', 'assert', 'async', 'await', 'break', 'class', 'continue', 'def', 'del', 'elif', 'else', 'except', 'finally', 'for', 'from', 'global', 'if', 'import', 'in', 'is', 'lambda', 'nonlocal', 'not', 'or', 'pass', 'raise', 'return', 'try', 'while', 'with', 'yield']\n"
          ]
        }
      ]
    },
    {
      "cell_type": "code",
      "source": [
        "# 4. Write a program that checks if a given word is a Python keyword.\n",
        "import keyword\n",
        "word = input(\"Enter a word: \")\n",
        "if keyword.iskeyword(word):\n",
        "    print(word, \"is a Python keyword.\")\n",
        "else:\n",
        "    print(word, \"is NOT a Python keyword.\")\n"
      ],
      "metadata": {
        "colab": {
          "base_uri": "https://localhost:8080/"
        },
        "id": "TmpowcF7ESOy",
        "outputId": "378074a7-8726-4a71-844c-fa4238aece8f"
      },
      "execution_count": 2,
      "outputs": [
        {
          "output_type": "stream",
          "name": "stdout",
          "text": [
            "Enter a word: file\n",
            "file is NOT a Python keyword.\n"
          ]
        }
      ]
    },
    {
      "cell_type": "code",
      "source": [
        "# 5. Create a list and tuple in Python and demonstrate how attempting to change an element works differently for each.\n",
        "my_list = [1, 2, 3]\n",
        "my_tuple = (1, 2, 3)\n",
        "my_list[0] = 4\n",
        "print(my_list)\n",
        "# not valid\n",
        "# my_tuple[0] = 4\n",
        "# print(my_tuple)\n",
        "print(my_tuple)"
      ],
      "metadata": {
        "colab": {
          "base_uri": "https://localhost:8080/"
        },
        "id": "OapXKsLuE1Fq",
        "outputId": "9abfc329-313e-42fb-cae5-ec0be2ed3c7a"
      },
      "execution_count": 3,
      "outputs": [
        {
          "output_type": "stream",
          "name": "stdout",
          "text": [
            "[4, 2, 3]\n",
            "(1, 2, 3)\n"
          ]
        }
      ]
    },
    {
      "cell_type": "code",
      "source": [
        "# 7. Write a program that performs basic arithmetic operations on two user-input numbers?\n",
        "a = int(input(\"Enter first number: \"))\n",
        "b = int(input(\"Enter second number: \"))\n",
        "\n",
        "print(\"Sum:\", a + b)\n",
        "print(\"Difference:\", a - b)\n",
        "print(\"Product:\", a * b)\n",
        "print(\"Quotient:\", a / b)"
      ],
      "metadata": {
        "colab": {
          "base_uri": "https://localhost:8080/"
        },
        "id": "IDMjXVNQoj24",
        "outputId": "ec2f34c8-786e-4ebc-d490-251a8af120d0"
      },
      "execution_count": 4,
      "outputs": [
        {
          "output_type": "stream",
          "name": "stdout",
          "text": [
            "Enter first number: 10\n",
            "Enter second number: 5\n",
            "Sum: 15\n",
            "Difference: 5\n",
            "Product: 50\n",
            "Quotient: 2.0\n"
          ]
        }
      ]
    },
    {
      "cell_type": "code",
      "source": [
        "# 8. Write a program to demonstrate the use of logical operators.\n",
        "x = 5\n",
        "y = 10\n",
        "print(x > 3 and y > 3)\n",
        "print(x > 10 or y > 3)\n",
        "print(not(x > 3))\n"
      ],
      "metadata": {
        "colab": {
          "base_uri": "https://localhost:8080/"
        },
        "id": "vYkFsstgp5IU",
        "outputId": "ce2c1812-95ce-40ff-e913-4d5bb7d1e0a7"
      },
      "execution_count": 5,
      "outputs": [
        {
          "output_type": "stream",
          "name": "stdout",
          "text": [
            "True\n",
            "True\n",
            "False\n"
          ]
        }
      ]
    },
    {
      "cell_type": "code",
      "source": [
        "# 9. Write a Python program to convert user input from string to integer, float, and boolean types.\n",
        "data = input(\"Enter a value: \")\n",
        "print(int(data))\n",
        "print(float(data))\n",
        "print(bool(data))\n"
      ],
      "metadata": {
        "colab": {
          "base_uri": "https://localhost:8080/"
        },
        "id": "F3YtqWd4qYQK",
        "outputId": "1a3687be-faee-48cc-9e92-417dba14183a"
      },
      "execution_count": 6,
      "outputs": [
        {
          "output_type": "stream",
          "name": "stdout",
          "text": [
            "Enter a value: 5\n",
            "5\n",
            "5.0\n",
            "True\n"
          ]
        }
      ]
    },
    {
      "cell_type": "code",
      "source": [
        "# 10. Write code to demonstrate type casting with list elements?\n",
        "numbers = [\"1\", \"2\", \"3\"]\n",
        "numbers = [int(x) for x in numbers]\n",
        "print(numbers)\n"
      ],
      "metadata": {
        "colab": {
          "base_uri": "https://localhost:8080/"
        },
        "id": "rj0MVHHrGSzH",
        "outputId": "e5374d68-f978-4259-ba4c-2c8c932b96a2"
      },
      "execution_count": 4,
      "outputs": [
        {
          "output_type": "stream",
          "name": "stdout",
          "text": [
            "[1, 2, 3]\n"
          ]
        }
      ]
    },
    {
      "cell_type": "code",
      "source": [
        "# 11. Write a program that checks if a number is positive, negative, or zero.\n",
        "num = int(input(\"Enter a number: \"))\n",
        "if num > 0:\n",
        "    print(\"Positive\")\n",
        "elif num < 0:\n",
        "    print(\"Negative\")\n",
        "else:\n",
        "    print(\"Zero\")\n"
      ],
      "metadata": {
        "colab": {
          "base_uri": "https://localhost:8080/"
        },
        "id": "1H7spINGrR2f",
        "outputId": "7d84f2af-e0f3-4c2f-b482-6e294cce7204"
      },
      "execution_count": 7,
      "outputs": [
        {
          "output_type": "stream",
          "name": "stdout",
          "text": [
            "Enter a number: 0\n",
            "Zero\n"
          ]
        }
      ]
    },
    {
      "cell_type": "code",
      "source": [
        "# 12. Write a for loop to print numbers from 1 to 10.\n",
        "for i in range(1, 11):\n",
        "    print(i)\n"
      ],
      "metadata": {
        "colab": {
          "base_uri": "https://localhost:8080/"
        },
        "id": "0CaC8Kvtrn-Y",
        "outputId": "fe237b7f-8b66-46ba-97d0-5e9e09001c5e"
      },
      "execution_count": 8,
      "outputs": [
        {
          "output_type": "stream",
          "name": "stdout",
          "text": [
            "1\n",
            "2\n",
            "3\n",
            "4\n",
            "5\n",
            "6\n",
            "7\n",
            "8\n",
            "9\n",
            "10\n"
          ]
        }
      ]
    },
    {
      "cell_type": "code",
      "source": [
        "# 13. Write a Python program to find the sum of all even numbers between 1 and 50.\n",
        "total = 0\n",
        "for i in range(1, 51):\n",
        "    if i % 2 == 0:\n",
        "        total += i\n",
        "print(\"Sum of even numbers:\", total)\n"
      ],
      "metadata": {
        "colab": {
          "base_uri": "https://localhost:8080/"
        },
        "id": "XSq9tS48rzd2",
        "outputId": "e51581dc-373b-4c62-8747-14025eab5660"
      },
      "execution_count": 9,
      "outputs": [
        {
          "output_type": "stream",
          "name": "stdout",
          "text": [
            "Sum of even numbers: 650\n"
          ]
        }
      ]
    },
    {
      "cell_type": "code",
      "source": [
        "# 14. Write a program to reverse a string using a while loop?\n",
        "word = input(\"Enter a word: \")\n",
        "reversed_word = \"\"\n",
        "i = len(word) - 1\n",
        "\n",
        "while i >= 0:\n",
        "    reversed_word += word[i]\n",
        "    i -= 1\n",
        "\n",
        "print(\"Reversed:\", reversed_word)"
      ],
      "metadata": {
        "colab": {
          "base_uri": "https://localhost:8080/"
        },
        "id": "PKCR7I9qIPmd",
        "outputId": "8f6e5648-80f5-4301-e600-e320da53e4c6"
      },
      "execution_count": 5,
      "outputs": [
        {
          "output_type": "stream",
          "name": "stdout",
          "text": [
            "Enter a word: HELLO\n",
            "Reversed: OLLEH\n"
          ]
        }
      ]
    },
    {
      "cell_type": "code",
      "source": [
        "# 15. Write a Python program to calculate the factorial of a number provided by the user using a while loop.\n",
        "num = int(input(\"Enter a number: \"))\n",
        "factorial = 1\n",
        "i = 1\n",
        "\n",
        "while i <= num:\n",
        "    factorial *= i\n",
        "    i += 1\n",
        "\n",
        "print(\"Factorial:\", factorial)\n"
      ],
      "metadata": {
        "colab": {
          "base_uri": "https://localhost:8080/"
        },
        "id": "n3FWKynrJ49q",
        "outputId": "3f1705f0-50bb-4bd4-8e70-0c0b38396bfe"
      },
      "execution_count": 6,
      "outputs": [
        {
          "output_type": "stream",
          "name": "stdout",
          "text": [
            "Enter a number: 5\n",
            "Factorial: 120\n"
          ]
        }
      ]
    }
  ]
}
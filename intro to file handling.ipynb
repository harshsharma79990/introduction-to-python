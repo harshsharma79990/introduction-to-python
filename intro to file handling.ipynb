{
  "nbformat": 4,
  "nbformat_minor": 0,
  "metadata": {
    "colab": {
      "provenance": []
    },
    "kernelspec": {
      "name": "python3",
      "display_name": "Python 3"
    },
    "language_info": {
      "name": "python"
    }
  },
  "cells": [
    {
      "cell_type": "markdown",
      "source": [
        "# Assignment theory questions..\n",
        "1. What is the difference between interpreted and compiled languages?\n",
        "\n",
        "- Interpreted language → Code runs line by line (Python).\n",
        "\n",
        "- Compiled language → Whole code is converted into machine code first, then run (C, C++).\n",
        "\n",
        "2. What is exception handling in Python?\n",
        "\n",
        "- Exception handling means managing errors in a safe way so the program doesn’t crash.\n",
        "\n",
        "3. What is the purpose of the finally block in exception handling?\n",
        "\n",
        "- The finally block always runs, whether there is an error or not. Useful for cleanup (like closing files).\n",
        "\n",
        "4. What is logging in Python?\n",
        "\n",
        "- Logging means keeping a record of what the program is doing (like errors, warnings, info) for debugging.\n",
        "\n",
        "5. What is the significance of the __del__ method in Python?\n",
        "\n",
        "- The __del__ method is called when an object is deleted. It can be used to free up the resources.\n",
        "\n",
        "6. What is the difference between import and from ... import in Python?\n",
        "\n",
        "- Import math → you must use math.sqrt(4).\n",
        "\n",
        "- From math import sqrt → you can directly use sqrt(4).\n",
        "\n",
        "7. How can you handle multiple exceptions in Python?\n",
        "\n",
        "- By using multiple except block:\n",
        "    x = int(\"abc\")\n",
        "except ValueError:\n",
        "    print(\"Value error\")\n",
        "\n",
        "8. What is the purpose of the with statement when handling files in Python?\n",
        "\n",
        "with makes sure the file is closed automatically after use.\n",
        "\n",
        "9. What is the difference between multithreading and multiprocessing?\n",
        "\n",
        "- Multithreading → many tasks inside the same process (share memory).\n",
        "\n",
        "- Multiprocessing → many processes, each with its own memory.\n",
        "\n",
        "10. What are the advantages of using logging in a program?\n",
        "\n",
        "Helps debug.\n",
        "\n",
        "- Keeps history of events.\n",
        "\n",
        "- More flexible than just print().\n",
        "\n",
        "11. What is memory management in Python?\n",
        "\n",
        "- It's how Python stores and clears memory for variables, objects, etc.\n",
        "\n",
        "12. What are the basic steps involved in exception handling in Python?\n",
        "\n",
        "Write risky code in try.\n",
        "\n",
        "- Catch error with except.\n",
        "\n",
        "- Use else for code if no error.\n",
        "\n",
        "- Use finally for cleanup.\n",
        "\n",
        "13. Why is memory management important in Python?\n",
        "\n",
        "- Because it prevents memory waste and keeps programs fast.\n",
        "\n",
        "14. What is the role of try and except in exception handling?\n",
        "\n",
        "- try → test code that may fail.\n",
        "\n",
        "- except → handle the error if it happens.\n",
        "\n",
        "15. How does Python's garbage collection system work?\n",
        "\n",
        "- It automatically deletes objects that are no longer used, to free memory.\n",
        "\n",
        "16. What is the purpose of the else block in exception handling?\n",
        "\n",
        "- The else block runs only if no error happens in the try block.\n",
        "\n",
        "17. What are the common logging levels in Python?\n",
        "\n",
        "- DEBUG\n",
        "- INFO\n",
        "- WARNING\n",
        "- ERROR\n",
        "- CRITICAL\n",
        "\n",
        "18. What is the difference between os.fork() and multiprocessing in Python?\n",
        "\n",
        "- os.fork() → works only on Unix/Linux, creates a new process.\n",
        "\n",
        "- multiprocessing → works on all platforms, higher-level and easier.\n",
        "\n",
        "19. What is the importance of closing a file in Python?\n",
        "\n",
        "- Closing a file saves changes and frees memory.\n",
        "\n",
        "20. What is the difference between file.read() and file.readline() in Python?\n",
        "\n",
        "- read() → reads the whole file.\n",
        "\n",
        "- readline() → reads one line at a time.\n",
        "\n",
        "21. What is the logging module in Python used for?\n",
        "\n",
        "- It's used to record messages (errors, info, warnings) in a program.\n",
        "\n",
        "22. What is the os module in Python used for in file handling?\n",
        "\n",
        "- The os module helps interact with the operating system (create, delete, rename files and folders).\n",
        "\n",
        "23. What are the challenges associated with memory management in Python?\n",
        "\n",
        "- Memory leaks if objects are not cleared.\n",
        "\n",
        "- Large programs may use too much memory.\n",
        "\n",
        "25. Why is it important to use multithreading in certain applications?\n",
        "\n",
        "Because it allows doing many tasks at once (like downloading files while still using the program)."
      ],
      "metadata": {
        "id": "YCrfVQ5ga1YJ"
      }
    },
    {
      "cell_type": "markdown",
      "source": [
        "# Assignment practical questions"
      ],
      "metadata": {
        "id": "br7ZFpWp6ZMq"
      }
    },
    {
      "cell_type": "code",
      "source": [
        "# 1. How can you open a file for writing in Python and write a string to it?\n",
        "with open(\"myfile.txt\", \"w\") as f:\n",
        "    f.write(\"Hello, this is a test file.\")"
      ],
      "metadata": {
        "id": "ibfybD9jjjqL"
      },
      "execution_count": null,
      "outputs": []
    },
    {
      "cell_type": "code",
      "source": [
        "# 2. Write a Python program to read the contents of a file and print each line.\n",
        "with open(\"myfile.txt\", \"r\") as f:\n",
        "    print(f.read())"
      ],
      "metadata": {
        "colab": {
          "base_uri": "https://localhost:8080/"
        },
        "id": "ayiTpaBOkUdh",
        "outputId": "89fdad82-c552-4eaa-c33a-ab7763ed5048"
      },
      "execution_count": null,
      "outputs": [
        {
          "output_type": "stream",
          "name": "stdout",
          "text": [
            "Hello, this is a test file.\n"
          ]
        }
      ]
    },
    {
      "cell_type": "code",
      "source": [
        "# 3. How would you handle a case where the file doesn't exist while trying to open it for reading?\n",
        "try:\n",
        "    with open(\"nofile.txt\", \"r\") as f:\n",
        "        print(f.read())\n",
        "except FileNotFoundError:\n",
        "    print(\"File not found!\")\n"
      ],
      "metadata": {
        "colab": {
          "base_uri": "https://localhost:8080/"
        },
        "id": "sIuSrwmRkhP4",
        "outputId": "aa0fa00b-93c0-4923-efd5-cab01ad53927"
      },
      "execution_count": null,
      "outputs": [
        {
          "output_type": "stream",
          "name": "stdout",
          "text": [
            "File not found!\n"
          ]
        }
      ]
    },
    {
      "cell_type": "code",
      "source": [
        "# 5. How would you catch and handle division by zero error in Python?\n",
        "try:\n",
        "    x = 10 / 0\n",
        "except ZeroDivisionError:\n",
        "    print(\"You can’t divide by zero!\")\n"
      ],
      "metadata": {
        "colab": {
          "base_uri": "https://localhost:8080/"
        },
        "id": "YPHBzwhAl7kg",
        "outputId": "a2165518-38e8-4301-edf4-cf77a2604e60"
      },
      "execution_count": null,
      "outputs": [
        {
          "output_type": "stream",
          "name": "stdout",
          "text": [
            "You can’t divide by zero!\n"
          ]
        }
      ]
    },
    {
      "cell_type": "code",
      "source": [
        "# 7. How do you log information at different levels (INFO, ERROR, WARNING) in Python using the logging module?\n",
        "import logging\n",
        "logging.basicConfig(level=logging.DEBUG)\n",
        "\n",
        "logging.info(\"This is info\")\n",
        "logging.warning(\"This is warning\")\n",
        "logging.error(\"This is error\")\n"
      ],
      "metadata": {
        "colab": {
          "base_uri": "https://localhost:8080/"
        },
        "id": "F6M61EWvtCra",
        "outputId": "67ad67ce-9c1a-40a1-d8e8-6cbe7c8c45bc"
      },
      "execution_count": null,
      "outputs": [
        {
          "output_type": "stream",
          "name": "stderr",
          "text": [
            "WARNING:root:This is warning\n",
            "ERROR:root:This is error\n"
          ]
        }
      ]
    },
    {
      "cell_type": "code",
      "source": [
        "# 8. Write a program to handle a file opening error using exception handling.\n",
        "try:\n",
        "    f = open(\"mkdir.txt\", \"r\")\n",
        "except FileNotFoundError:\n",
        "    print(\"The file doesn’t exist!\")\n"
      ],
      "metadata": {
        "colab": {
          "base_uri": "https://localhost:8080/"
        },
        "id": "u3faIfWDtcXu",
        "outputId": "9f8e0342-1b40-4d9b-9cce-e6a9c2ab1129"
      },
      "execution_count": null,
      "outputs": [
        {
          "output_type": "stream",
          "name": "stdout",
          "text": [
            "The file doesn’t exist!\n"
          ]
        }
      ]
    },
    {
      "cell_type": "code",
      "source": [
        "# 10. How can you append data to an existing file in Python?\n",
        "with open(\"myfile.txt\", \"a\") as f:\n",
        "    f.write(\"\\nNew line added.\")\n"
      ],
      "metadata": {
        "id": "y8JTZnJuuSY6"
      },
      "execution_count": null,
      "outputs": []
    },
    {
      "cell_type": "code",
      "source": [
        "# 11. Write a Python program that uses a try-except block to handle an error when attempting to access a dictionary key that doesn't exist.\n",
        "data = {\"name\": \"Harsh\"}\n",
        "try:\n",
        "    print(data[\"age\"])\n",
        "except KeyError:\n",
        "    print(\"Key not found in dictionary!\")\n"
      ],
      "metadata": {
        "colab": {
          "base_uri": "https://localhost:8080/"
        },
        "id": "V8_D0S51u1dJ",
        "outputId": "e5c13368-4448-46b4-cb26-9b822ac2ed41"
      },
      "execution_count": null,
      "outputs": [
        {
          "output_type": "stream",
          "name": "stdout",
          "text": [
            "Key not found in dictionary!\n"
          ]
        }
      ]
    },
    {
      "cell_type": "code",
      "source": [
        "# 12. Write a program that demonstrates using multiple except blocks to handle different types of exceptions.\n",
        "try:\n",
        "    x = int(\"abc\")  # ValueError\n",
        "    y = 10 / 0      # ZeroDivisionError\n",
        "except ValueError:\n",
        "    print(\"Wrong value type!\")\n",
        "except ZeroDivisionError:\n",
        "    print(\"Division by zero!\")\n"
      ],
      "metadata": {
        "colab": {
          "base_uri": "https://localhost:8080/"
        },
        "id": "Sv7hy_KM458a",
        "outputId": "a837fab4-20d4-4402-c4cd-98b1cd4f06c2"
      },
      "execution_count": null,
      "outputs": [
        {
          "output_type": "stream",
          "name": "stdout",
          "text": [
            "Wrong value type!\n"
          ]
        }
      ]
    },
    {
      "cell_type": "code",
      "source": [
        "# 13. How would you check if a file exists before attempting to read it in Python?\n",
        "import os\n",
        "if os.path.exists(\"myfile.txt\"):\n",
        "    with open(\"myfile.txt\", \"r\") as f:\n",
        "        print(f.read())\n",
        "else:\n",
        "    print(\"File does not exist\")\n"
      ],
      "metadata": {
        "colab": {
          "base_uri": "https://localhost:8080/"
        },
        "id": "1GrWDLNa5NTj",
        "outputId": "5a2806d5-a9d2-4431-b90a-5225ee626ec5"
      },
      "execution_count": null,
      "outputs": [
        {
          "output_type": "stream",
          "name": "stdout",
          "text": [
            "Hello, this is a test file.\n",
            "New line added.\n"
          ]
        }
      ]
    },
    {
      "cell_type": "code",
      "source": [
        "# 14. Write a program that uses the logging module to log both informational and error messages.\n",
        "import logging\n",
        "logging.basicConfig(filename=\"app.log\", level=logging.DEBUG)\n",
        "\n",
        "logging.info(\"Program started\")\n",
        "try:\n",
        "    x = 10 / 0\n",
        "except ZeroDivisionError:\n",
        "    logging.error(\"Division by zero error\")\n"
      ],
      "metadata": {
        "colab": {
          "base_uri": "https://localhost:8080/"
        },
        "id": "vt3z6Z9t5dON",
        "outputId": "d8bcaa6a-35a0-480a-d2b5-c6e460f84554"
      },
      "execution_count": null,
      "outputs": [
        {
          "output_type": "stream",
          "name": "stderr",
          "text": [
            "ERROR:root:Division by zero error\n"
          ]
        }
      ]
    },
    {
      "cell_type": "code",
      "source": [
        "# 17. Write a Python program to create and write a list of numbers to a file, one number per line.\n",
        "numbers = [1, 2, 3, 4, 5]\n",
        "with open(\"numbers.txt\", \"w\") as f:\n",
        "    for n in numbers:\n",
        "        f.write(str(n) + \"\\n\")\n"
      ],
      "metadata": {
        "id": "dJP8R1F2521Z"
      },
      "execution_count": null,
      "outputs": []
    },
    {
      "cell_type": "code",
      "source": [
        "# 19. Write a program that handles both IndexError and KeyError using a try-except block.\n",
        "data = {\"name\": \"Harsh\"}\n",
        "lst = [1, 2, 3]\n",
        "\n",
        "try:\n",
        "    print(lst[5])  # IndexError\n",
        "    print(data[\"age\"])  # KeyError\n",
        "except IndexError:\n",
        "    print(\"Index is out of range!\")\n",
        "except KeyError:\n",
        "    print(\"Key not found!\")\n"
      ],
      "metadata": {
        "colab": {
          "base_uri": "https://localhost:8080/"
        },
        "id": "3b8KyXn558PN",
        "outputId": "c745b5a6-b008-4f0a-9710-b224ea3612ac"
      },
      "execution_count": null,
      "outputs": [
        {
          "output_type": "stream",
          "name": "stdout",
          "text": [
            "Index is out of range!\n"
          ]
        }
      ]
    },
    {
      "cell_type": "code",
      "source": [
        "# 22. How can you check if a file is empty before attempting to read its contents?\n",
        "import os\n",
        "if os.stat(\"myfile.txt\").st_size == 0:\n",
        "    print(\"File is empty\")\n",
        "else:\n",
        "    with open(\"myfile.txt\", \"r\") as f:\n",
        "        print(f.read())\n"
      ],
      "metadata": {
        "colab": {
          "base_uri": "https://localhost:8080/"
        },
        "id": "HvJI3Kx86Flk",
        "outputId": "0bc90d43-03ca-4d31-c075-b254e1274e8c"
      },
      "execution_count": null,
      "outputs": [
        {
          "output_type": "stream",
          "name": "stdout",
          "text": [
            "Hello, this is a test file.\n",
            "New line added.\n"
          ]
        }
      ]
    }
  ]
}